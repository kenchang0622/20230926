{
  "nbformat": 4,
  "nbformat_minor": 0,
  "metadata": {
    "colab": {
      "provenance": []
    },
    "kernelspec": {
      "name": "python3",
      "display_name": "Python 3"
    },
    "language_info": {
      "name": "python"
    }
  },
  "cells": [
    {
      "cell_type": "code",
      "execution_count": 1,
      "metadata": {
        "colab": {
          "base_uri": "https://localhost:8080/"
        },
        "id": "rSotzu-UfvR3",
        "outputId": "4bbc7bdc-7e91-44da-cda4-2d966ac14782"
      },
      "outputs": [
        {
          "output_type": "stream",
          "name": "stdout",
          "text": [
            "I'm a student\n"
          ]
        }
      ],
      "source": [
        "a=\"I'm a student\"\n",
        "print(a)"
      ]
    },
    {
      "cell_type": "code",
      "source": [
        "a=int(input('請輸入x1='))\n",
        "b=int(input('請輸入x2='))\n",
        "c=int(input('請輸入y1='))\n",
        "d=int(input('請輸入y2='))\n",
        "a-=c\n",
        "b-=d\n",
        "print((a**2+b**2)**(1/2))"
      ],
      "metadata": {
        "colab": {
          "base_uri": "https://localhost:8080/"
        },
        "id": "XIyACHK4gwBo",
        "outputId": "011d19b1-9b0f-4c4e-b9fe-d61be8f265ee"
      },
      "execution_count": 4,
      "outputs": [
        {
          "output_type": "stream",
          "name": "stdout",
          "text": [
            "請輸入x1=0\n",
            "請輸入x2=0\n",
            "請輸入y1=3\n",
            "請輸入y2=4\n",
            "5.0\n"
          ]
        }
      ]
    },
    {
      "cell_type": "code",
      "source": [
        "a=float(input('請輸入身高:'))\n",
        "b=float(input('請輸入體重:'))\n",
        "a/=100\n",
        "a**=2\n",
        "b/=a\n",
        "print((b<18.5)*1)"
      ],
      "metadata": {
        "colab": {
          "base_uri": "https://localhost:8080/"
        },
        "id": "c_fVXKYXhdSr",
        "outputId": "355f9e42-7d1a-4887-c6cc-d7374c402869"
      },
      "execution_count": 6,
      "outputs": [
        {
          "output_type": "stream",
          "name": "stdout",
          "text": [
            "請輸入身高:160\n",
            "請輸入體重:69\n",
            "0\n"
          ]
        }
      ]
    }
  ]
}